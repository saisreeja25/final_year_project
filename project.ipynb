{
 "cells": [
  {
   "cell_type": "code",
   "execution_count": 2,
   "id": "285d6bf0",
   "metadata": {},
   "outputs": [],
   "source": [
    "import pandas as pd\n",
    "import numpy as np"
   ]
  },
  {
   "cell_type": "code",
   "execution_count": 3,
   "id": "53665a4c",
   "metadata": {},
   "outputs": [],
   "source": [
    "data=pd.read_csv('Bone_Tumor_Dataset_Expanded_200k.csv')"
   ]
  },
  {
   "cell_type": "code",
   "execution_count": 4,
   "id": "4f8787c5",
   "metadata": {},
   "outputs": [
    {
     "data": {
      "text/plain": [
       "<bound method NDFrame.head of         Patient ID     Sex  Age         Grade  \\\n",
       "0       STS_000001  Female   64  Intermediate   \n",
       "1       STS_000002    Male   52          High   \n",
       "2       STS_000003    Male   27  Intermediate   \n",
       "3       STS_000004    Male   56          High   \n",
       "4       STS_000005  Female   62          High   \n",
       "...            ...     ...  ...           ...   \n",
       "199995  STS_199996  Female   30          High   \n",
       "199996  STS_199997  Female   43  Intermediate   \n",
       "199997  STS_199998    Male   56          High   \n",
       "199998  STS_199999  Female   41  Intermediate   \n",
       "199999  STS_200000    Male   70          High   \n",
       "\n",
       "                             Histological type        MSKCC type  \\\n",
       "0                  pleiomorphic leiomyosarcoma               MFH   \n",
       "1                  pleiomorphic leiomyosarcoma  Synovial sarcoma   \n",
       "2                  pleiomorphic leiomyosarcoma    Leiomyosarcoma   \n",
       "3             malignant solitary fibrous tumor    Leiomyosarcoma   \n",
       "4          sclerosing epithelioid fibrosarcoma               MFH   \n",
       "...                                        ...               ...   \n",
       "199995             pleiomorphic leiomyosarcoma  Synovial sarcoma   \n",
       "199996         undifferentiated - pleiomorphic    Leiomyosarcoma   \n",
       "199997                        synovial sarcoma    Leiomyosarcoma   \n",
       "199998  poorly differentiated synovial sarcoma    Leiomyosarcoma   \n",
       "199999         undifferentiated - pleiomorphic    Leiomyosarcoma   \n",
       "\n",
       "         Site of primary STS Status (NED, AWD, D)  \\\n",
       "0                 left thigh                  NED   \n",
       "1                right thigh                    D   \n",
       "2       right parascapusular                  AWD   \n",
       "3                left biceps                  NED   \n",
       "4              right buttock                    D   \n",
       "...                      ...                  ...   \n",
       "199995           right thigh                  NED   \n",
       "199996         right buttock                  NED   \n",
       "199997           right thigh                  NED   \n",
       "199998            left thigh                  AWD   \n",
       "199999           right thigh                  NED   \n",
       "\n",
       "                                    Treatment  \n",
       "0                      Radiotherapy + Surgery  \n",
       "1       Radiotherapy + Surgery + Chemotherapy  \n",
       "2       Radiotherapy + Surgery + Chemotherapy  \n",
       "3       Radiotherapy + Surgery + Chemotherapy  \n",
       "4                      Surgery + Chemotherapy  \n",
       "...                                       ...  \n",
       "199995  Radiotherapy + Surgery + Chemotherapy  \n",
       "199996                 Surgery + Chemotherapy  \n",
       "199997                 Radiotherapy + Surgery  \n",
       "199998  Radiotherapy + Surgery + Chemotherapy  \n",
       "199999                 Radiotherapy + Surgery  \n",
       "\n",
       "[200000 rows x 9 columns]>"
      ]
     },
     "execution_count": 4,
     "metadata": {},
     "output_type": "execute_result"
    }
   ],
   "source": [
    "data.head"
   ]
  },
  {
   "cell_type": "code",
   "execution_count": 5,
   "id": "66e39862",
   "metadata": {},
   "outputs": [
    {
     "data": {
      "text/plain": [
       "Index(['Patient ID', 'Sex', 'Age', 'Grade', 'Histological type', 'MSKCC type',\n",
       "       'Site of primary STS', 'Status (NED, AWD, D)', 'Treatment'],\n",
       "      dtype='object')"
      ]
     },
     "execution_count": 5,
     "metadata": {},
     "output_type": "execute_result"
    }
   ],
   "source": [
    "data.columns\n"
   ]
  },
  {
   "cell_type": "code",
   "execution_count": 8,
   "id": "68348f84",
   "metadata": {},
   "outputs": [
    {
     "data": {
      "text/plain": [
       "array(['Intermediate', 'High'], dtype=object)"
      ]
     },
     "execution_count": 8,
     "metadata": {},
     "output_type": "execute_result"
    }
   ],
   "source": [
    "data['Grade'].unique()"
   ]
  },
  {
   "cell_type": "code",
   "execution_count": 9,
   "id": "97e539a4",
   "metadata": {},
   "outputs": [
    {
     "data": {
      "text/plain": [
       "array(['pleiomorphic leiomyosarcoma', 'malignant solitary fibrous tumor',\n",
       "       'sclerosing epithelioid fibrosarcoma', 'myxoid fibrosarcoma',\n",
       "       'undifferentiated - pleiomorphic', 'synovial sarcoma',\n",
       "       'undifferentiated pleomorphic liposarcoma', 'epithelioid sarcoma',\n",
       "       'poorly differentiated synovial sarcoma',\n",
       "       'pleiomorphic spindle cell undifferentiated',\n",
       "       'pleomorphic sarcoma', 'myxofibrosarcoma', 'leiomyosarcoma'],\n",
       "      dtype=object)"
      ]
     },
     "execution_count": 9,
     "metadata": {},
     "output_type": "execute_result"
    }
   ],
   "source": [
    "data['Histological type'].unique()"
   ]
  },
  {
   "cell_type": "code",
   "execution_count": 10,
   "id": "92b8b0de",
   "metadata": {},
   "outputs": [
    {
     "data": {
      "text/plain": [
       "array(['MFH', 'Synovial sarcoma', 'Leiomyosarcoma'], dtype=object)"
      ]
     },
     "execution_count": 10,
     "metadata": {},
     "output_type": "execute_result"
    }
   ],
   "source": [
    "data['MSKCC type'].unique()"
   ]
  },
  {
   "cell_type": "code",
   "execution_count": 11,
   "id": "5f2dd45a",
   "metadata": {},
   "outputs": [
    {
     "data": {
      "text/plain": [
       "array(['left thigh', 'right thigh', 'right parascapusular', 'left biceps',\n",
       "       'right buttock', 'parascapusular', 'left buttock'], dtype=object)"
      ]
     },
     "execution_count": 11,
     "metadata": {},
     "output_type": "execute_result"
    }
   ],
   "source": [
    "data['Site of primary STS'].unique()"
   ]
  },
  {
   "cell_type": "code",
   "execution_count": null,
   "id": "5460579d",
   "metadata": {},
   "outputs": [
    {
     "data": {
      "text/plain": [
       "array(['NED', 'D', 'AWD'], dtype=object)"
      ]
     },
     "execution_count": 12,
     "metadata": {},
     "output_type": "execute_result"
    }
   ],
   "source": [
    "data['Status (NED, AWD, D)'].unique()"
   ]
  },
  {
   "cell_type": "code",
   "execution_count": 14,
   "id": "1091158b",
   "metadata": {},
   "outputs": [
    {
     "data": {
      "text/plain": [
       "array(['Radiotherapy + Surgery', 'Radiotherapy + Surgery + Chemotherapy',\n",
       "       'Surgery + Chemotherapy'], dtype=object)"
      ]
     },
     "execution_count": 14,
     "metadata": {},
     "output_type": "execute_result"
    }
   ],
   "source": [
    "data['Treatment'].unique()"
   ]
  },
  {
   "cell_type": "code",
   "execution_count": 15,
   "id": "d28aeec7",
   "metadata": {},
   "outputs": [
    {
     "ename": "ModuleNotFoundError",
     "evalue": "No module named 'tensorflow'",
     "output_type": "error",
     "traceback": [
      "\u001b[1;31m---------------------------------------------------------------------------\u001b[0m",
      "\u001b[1;31mModuleNotFoundError\u001b[0m                       Traceback (most recent call last)",
      "Cell \u001b[1;32mIn[15], line 8\u001b[0m\n\u001b[0;32m      6\u001b[0m \u001b[38;5;28;01mfrom\u001b[39;00m \u001b[38;5;21;01msklearn\u001b[39;00m\u001b[38;5;21;01m.\u001b[39;00m\u001b[38;5;21;01mpreprocessing\u001b[39;00m \u001b[38;5;28;01mimport\u001b[39;00m LabelEncoder, StandardScaler\n\u001b[0;32m      7\u001b[0m \u001b[38;5;28;01mfrom\u001b[39;00m \u001b[38;5;21;01msklearn\u001b[39;00m\u001b[38;5;21;01m.\u001b[39;00m\u001b[38;5;21;01mmetrics\u001b[39;00m \u001b[38;5;28;01mimport\u001b[39;00m confusion_matrix, classification_report\n\u001b[1;32m----> 8\u001b[0m \u001b[38;5;28;01mimport\u001b[39;00m \u001b[38;5;21;01mtensorflow\u001b[39;00m \u001b[38;5;28;01mas\u001b[39;00m \u001b[38;5;21;01mtf\u001b[39;00m\n\u001b[0;32m      9\u001b[0m \u001b[38;5;28;01mfrom\u001b[39;00m \u001b[38;5;21;01mtensorflow\u001b[39;00m\u001b[38;5;21;01m.\u001b[39;00m\u001b[38;5;21;01mkeras\u001b[39;00m\u001b[38;5;21;01m.\u001b[39;00m\u001b[38;5;21;01mmodels\u001b[39;00m \u001b[38;5;28;01mimport\u001b[39;00m Sequential\n\u001b[0;32m     10\u001b[0m \u001b[38;5;28;01mfrom\u001b[39;00m \u001b[38;5;21;01mtensorflow\u001b[39;00m\u001b[38;5;21;01m.\u001b[39;00m\u001b[38;5;21;01mkeras\u001b[39;00m\u001b[38;5;21;01m.\u001b[39;00m\u001b[38;5;21;01mlayers\u001b[39;00m \u001b[38;5;28;01mimport\u001b[39;00m Dense, Dropout, Conv1D, GlobalMaxPooling1D, LSTM, Reshape\n",
      "\u001b[1;31mModuleNotFoundError\u001b[0m: No module named 'tensorflow'"
     ]
    }
   ],
   "source": [
    "import pandas as pd\n",
    "import numpy as np\n",
    "import matplotlib.pyplot as plt\n",
    "import seaborn as sns\n",
    "from sklearn.model_selection import train_test_split\n",
    "from sklearn.preprocessing import LabelEncoder, StandardScaler\n",
    "from sklearn.metrics import confusion_matrix, classification_report\n",
    "import tensorflow as tf\n",
    "from tensorflow.keras.models import Sequential\n",
    "from tensorflow.keras.layers import Dense, Dropout, Conv1D, GlobalMaxPooling1D, LSTM, Reshape"
   ]
  },
  {
   "cell_type": "code",
   "execution_count": null,
   "id": "ed9f53de",
   "metadata": {},
   "outputs": [],
   "source": []
  },
  {
   "cell_type": "code",
   "execution_count": null,
   "id": "3dc41b76",
   "metadata": {},
   "outputs": [],
   "source": []
  },
  {
   "cell_type": "code",
   "execution_count": null,
   "id": "1fa2fa2d",
   "metadata": {},
   "outputs": [],
   "source": []
  },
  {
   "cell_type": "code",
   "execution_count": null,
   "id": "1d8893de",
   "metadata": {},
   "outputs": [],
   "source": []
  },
  {
   "cell_type": "code",
   "execution_count": null,
   "id": "333f79c7",
   "metadata": {},
   "outputs": [],
   "source": []
  },
  {
   "cell_type": "code",
   "execution_count": null,
   "id": "27ac1fc2",
   "metadata": {},
   "outputs": [],
   "source": []
  },
  {
   "cell_type": "code",
   "execution_count": null,
   "id": "e23d2cf8",
   "metadata": {},
   "outputs": [],
   "source": []
  },
  {
   "cell_type": "code",
   "execution_count": null,
   "id": "12c89e77",
   "metadata": {},
   "outputs": [],
   "source": []
  }
 ],
 "metadata": {
  "kernelspec": {
   "display_name": "base",
   "language": "python",
   "name": "python3"
  },
  "language_info": {
   "codemirror_mode": {
    "name": "ipython",
    "version": 3
   },
   "file_extension": ".py",
   "mimetype": "text/x-python",
   "name": "python",
   "nbconvert_exporter": "python",
   "pygments_lexer": "ipython3",
   "version": "3.12.4"
  }
 },
 "nbformat": 4,
 "nbformat_minor": 5
}
